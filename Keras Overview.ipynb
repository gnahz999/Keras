{
 "cells": [
  {
   "cell_type": "code",
   "execution_count": 1,
   "metadata": {},
   "outputs": [],
   "source": [
    "import tensorflow as tf\n",
    "\n",
    "from tensorflow import keras"
   ]
  },
  {
   "cell_type": "code",
   "execution_count": 4,
   "metadata": {},
   "outputs": [],
   "source": [
    "from tensorflow.keras import layers\n",
    "\n",
    "model = tf.keras.Sequential()\n",
    "# Adds a densely-connected layer with 64 units to the model:\n",
    "model.add(layers.Dense(64, activation='relu'))\n",
    "# Add another:\n",
    "model.add(layers.Dense(64, activation='relu'))\n",
    "# Add an output layer with 10 output units:\n",
    "model.add(layers.Dense(10))"
   ]
  },
  {
   "cell_type": "code",
   "execution_count": 5,
   "metadata": {},
   "outputs": [
    {
     "data": {
      "text/plain": [
       "<tensorflow.python.keras.layers.core.Dense at 0x18e1d214748>"
      ]
     },
     "execution_count": 5,
     "metadata": {},
     "output_type": "execute_result"
    }
   ],
   "source": [
    "# Create a relu layer:\n",
    "layers.Dense(64, activation='relu')\n",
    "# Or:\n",
    "layers.Dense(64, activation=tf.nn.relu)\n",
    "\n",
    "# A linear layer with L1 regularization of factor 0.01 applied to the kernel matrix:\n",
    "layers.Dense(64, kernel_regularizer=tf.keras.regularizers.l1(0.01))\n",
    "\n",
    "# A linear layer with L2 regularization of factor 0.01 applied to the bias vector:\n",
    "layers.Dense(64, bias_regularizer=tf.keras.regularizers.l2(0.01))\n",
    "\n",
    "# A linear layer with a kernel initialized to a random orthogonal matrix:\n",
    "layers.Dense(64, kernel_initializer='orthogonal')\n",
    "\n",
    "# A linear layer with a bias vector initialized to 2.0s:\n",
    "layers.Dense(64, bias_initializer=tf.keras.initializers.Constant(2.0))"
   ]
  },
  {
   "cell_type": "code",
   "execution_count": 6,
   "metadata": {},
   "outputs": [],
   "source": [
    "model = tf.keras.Sequential([\n",
    "# Adds a densely-connected layer with 64 units to the model:\n",
    "layers.Dense(64, activation='relu', input_shape=(32,)),\n",
    "# Add another:\n",
    "layers.Dense(64, activation='relu'),\n",
    "# Add an output layer with 10 output units:\n",
    "layers.Dense(10)])\n",
    "\n",
    "model.compile(optimizer=tf.keras.optimizers.Adam(0.01),\n",
    "              loss=tf.keras.losses.CategoricalCrossentropy(from_logits=True),\n",
    "              metrics=['accuracy'])"
   ]
  },
  {
   "cell_type": "code",
   "execution_count": 7,
   "metadata": {},
   "outputs": [],
   "source": [
    "# Configure a model for mean-squared error regression.\n",
    "model.compile(optimizer=tf.keras.optimizers.Adam(0.01),\n",
    "              loss='mse',       # mean squared error\n",
    "              metrics=['mae'])  # mean absolute error\n",
    "\n",
    "# Configure a model for categorical classification.\n",
    "model.compile(optimizer=tf.keras.optimizers.RMSprop(0.01),\n",
    "              loss=tf.keras.losses.CategoricalCrossentropy(from_logits=True),\n",
    "              metrics=['accuracy'])"
   ]
  },
  {
   "cell_type": "code",
   "execution_count": 8,
   "metadata": {},
   "outputs": [
    {
     "name": "stdout",
     "output_type": "stream",
     "text": [
      "Epoch 1/10\n",
      "32/32 [==============================] - 0s 2ms/step - loss: 267.3490 - accuracy: 0.0940\n",
      "Epoch 2/10\n",
      "32/32 [==============================] - 0s 2ms/step - loss: 1043.9470 - accuracy: 0.1140\n",
      "Epoch 3/10\n",
      "32/32 [==============================] - 0s 2ms/step - loss: 2286.6326 - accuracy: 0.0800\n",
      "Epoch 4/10\n",
      "32/32 [==============================] - 0s 2ms/step - loss: 3599.1345 - accuracy: 0.0980\n",
      "Epoch 5/10\n",
      "32/32 [==============================] - 0s 2ms/step - loss: 5448.6621 - accuracy: 0.0940\n",
      "Epoch 6/10\n",
      "32/32 [==============================] - 0s 2ms/step - loss: 7759.4409 - accuracy: 0.0870\n",
      "Epoch 7/10\n",
      "32/32 [==============================] - 0s 2ms/step - loss: 9862.6641 - accuracy: 0.1040\n",
      "Epoch 8/10\n",
      "32/32 [==============================] - 0s 2ms/step - loss: 12816.8506 - accuracy: 0.0820\n",
      "Epoch 9/10\n",
      "32/32 [==============================] - 0s 2ms/step - loss: 15111.2441 - accuracy: 0.1030\n",
      "Epoch 10/10\n",
      "32/32 [==============================] - 0s 2ms/step - loss: 19008.3027 - accuracy: 0.1010\n"
     ]
    },
    {
     "data": {
      "text/plain": [
       "<tensorflow.python.keras.callbacks.History at 0x18e233bf548>"
      ]
     },
     "execution_count": 8,
     "metadata": {},
     "output_type": "execute_result"
    }
   ],
   "source": [
    "import numpy as np\n",
    "\n",
    "data = np.random.random((1000, 32))\n",
    "labels = np.random.random((1000, 10))\n",
    "\n",
    "model.fit(data, labels, epochs=10, batch_size=32)"
   ]
  },
  {
   "cell_type": "code",
   "execution_count": 9,
   "metadata": {},
   "outputs": [
    {
     "name": "stdout",
     "output_type": "stream",
     "text": [
      "Epoch 1/10\n",
      "32/32 [==============================] - 0s 7ms/step - loss: 22092.0195 - accuracy: 0.1050 - val_loss: 22553.2207 - val_accuracy: 0.1200\n",
      "Epoch 2/10\n",
      "32/32 [==============================] - 0s 3ms/step - loss: 26866.1895 - accuracy: 0.0900 - val_loss: 21013.6758 - val_accuracy: 0.0700\n",
      "Epoch 3/10\n",
      "32/32 [==============================] - 0s 3ms/step - loss: 29880.2070 - accuracy: 0.1060 - val_loss: 36079.7930 - val_accuracy: 0.1100\n",
      "Epoch 4/10\n",
      "32/32 [==============================] - 0s 3ms/step - loss: 35062.2305 - accuracy: 0.0980 - val_loss: 30177.7051 - val_accuracy: 0.0800\n",
      "Epoch 5/10\n",
      "32/32 [==============================] - 0s 3ms/step - loss: 39008.7930 - accuracy: 0.0890 - val_loss: 51186.7891 - val_accuracy: 0.0700\n",
      "Epoch 6/10\n",
      "32/32 [==============================] - 0s 3ms/step - loss: 44729.4062 - accuracy: 0.0910 - val_loss: 64348.2266 - val_accuracy: 0.1700\n",
      "Epoch 7/10\n",
      "32/32 [==============================] - 0s 3ms/step - loss: 49888.9844 - accuracy: 0.0970 - val_loss: 48405.3008 - val_accuracy: 0.1200\n",
      "Epoch 8/10\n",
      "32/32 [==============================] - 0s 4ms/step - loss: 54606.5938 - accuracy: 0.1080 - val_loss: 67758.4688 - val_accuracy: 0.1700\n",
      "Epoch 9/10\n",
      "32/32 [==============================] - 0s 4ms/step - loss: 61506.8203 - accuracy: 0.1000 - val_loss: 66927.0078 - val_accuracy: 0.0800\n",
      "Epoch 10/10\n",
      "32/32 [==============================] - 0s 3ms/step - loss: 68108.2031 - accuracy: 0.1040 - val_loss: 71827.1719 - val_accuracy: 0.0800\n"
     ]
    },
    {
     "data": {
      "text/plain": [
       "<tensorflow.python.keras.callbacks.History at 0x18e23474248>"
      ]
     },
     "execution_count": 9,
     "metadata": {},
     "output_type": "execute_result"
    }
   ],
   "source": [
    "import numpy as np\n",
    "\n",
    "data = np.random.random((1000, 32))\n",
    "labels = np.random.random((1000, 10))\n",
    "\n",
    "val_data = np.random.random((100, 32))\n",
    "val_labels = np.random.random((100, 10))\n",
    "\n",
    "model.fit(data, labels, epochs=10, batch_size=32,\n",
    "          validation_data=(val_data, val_labels))"
   ]
  },
  {
   "cell_type": "code",
   "execution_count": 10,
   "metadata": {},
   "outputs": [
    {
     "name": "stdout",
     "output_type": "stream",
     "text": [
      "Epoch 1/10\n",
      "32/32 [==============================] - 0s 2ms/step - loss: 75602.6172 - accuracy: 0.0960\n",
      "Epoch 2/10\n",
      "32/32 [==============================] - 0s 3ms/step - loss: 81605.0312 - accuracy: 0.1060\n",
      "Epoch 3/10\n",
      "32/32 [==============================] - 0s 3ms/step - loss: 88127.3906 - accuracy: 0.1050\n",
      "Epoch 4/10\n",
      "32/32 [==============================] - 0s 3ms/step - loss: 100775.0547 - accuracy: 0.0840\n",
      "Epoch 5/10\n",
      "32/32 [==============================] - 0s 2ms/step - loss: 103730.7500 - accuracy: 0.1270\n",
      "Epoch 6/10\n",
      "32/32 [==============================] - 0s 2ms/step - loss: 109455.1797 - accuracy: 0.1230\n",
      "Epoch 7/10\n",
      "32/32 [==============================] - 0s 3ms/step - loss: 122305.4531 - accuracy: 0.1060\n",
      "Epoch 8/10\n",
      "32/32 [==============================] - 0s 2ms/step - loss: 126181.1484 - accuracy: 0.1050\n",
      "Epoch 9/10\n",
      "32/32 [==============================] - 0s 3ms/step - loss: 140763.9062 - accuracy: 0.0870\n",
      "Epoch 10/10\n",
      "32/32 [==============================] - 0s 3ms/step - loss: 153003.5469 - accuracy: 0.0790\n"
     ]
    },
    {
     "data": {
      "text/plain": [
       "<tensorflow.python.keras.callbacks.History at 0x18e1d214f48>"
      ]
     },
     "execution_count": 10,
     "metadata": {},
     "output_type": "execute_result"
    }
   ],
   "source": [
    "# Instantiates a toy dataset instance:\n",
    "dataset = tf.data.Dataset.from_tensor_slices((data, labels))\n",
    "dataset = dataset.batch(32)\n",
    "\n",
    "model.fit(dataset, epochs=10)"
   ]
  },
  {
   "cell_type": "code",
   "execution_count": 11,
   "metadata": {},
   "outputs": [
    {
     "name": "stdout",
     "output_type": "stream",
     "text": [
      "32/32 [==============================] - 0s 2ms/step - loss: 81888.3750 - accuracy: 0.1150\n",
      "32/32 [==============================] - 0s 2ms/step - loss: 81888.3750 - accuracy: 0.1150\n"
     ]
    },
    {
     "data": {
      "text/plain": [
       "[81888.375, 0.11500000208616257]"
      ]
     },
     "execution_count": 11,
     "metadata": {},
     "output_type": "execute_result"
    }
   ],
   "source": [
    "# With Numpy arrays\n",
    "data = np.random.random((1000, 32))\n",
    "labels = np.random.random((1000, 10))\n",
    "\n",
    "model.evaluate(data, labels, batch_size=32)\n",
    "\n",
    "# With a Dataset\n",
    "dataset = tf.data.Dataset.from_tensor_slices((data, labels))\n",
    "dataset = dataset.batch(32)\n",
    "\n",
    "model.evaluate(dataset)"
   ]
  },
  {
   "cell_type": "code",
   "execution_count": null,
   "metadata": {},
   "outputs": [],
   "source": []
  }
 ],
 "metadata": {
  "kernelspec": {
   "display_name": "Python [conda env:pythontf]",
   "language": "python",
   "name": "conda-env-pythontf-py"
  },
  "language_info": {
   "codemirror_mode": {
    "name": "ipython",
    "version": 3
   },
   "file_extension": ".py",
   "mimetype": "text/x-python",
   "name": "python",
   "nbconvert_exporter": "python",
   "pygments_lexer": "ipython3",
   "version": "3.7.7"
  }
 },
 "nbformat": 4,
 "nbformat_minor": 4
}
